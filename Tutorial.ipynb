{
 "cells": [
  {
   "cell_type": "code",
   "execution_count": 5,
   "metadata": {},
   "outputs": [
    {
     "name": "stdout",
     "output_type": "stream",
     "text": [
      "Hello World!Line 2\n"
     ]
    }
   ],
   "source": [
    "#Printing \n",
    "#Syntax: print(\"Text to be printed\", end,sep)\n",
    "print(\"Hello World!\", end = \"\") \n",
    "print(\"Line 2\")"
   ]
  },
  {
   "cell_type": "code",
   "execution_count": 6,
   "metadata": {},
   "outputs": [
    {
     "name": "stdout",
     "output_type": "stream",
     "text": [
      "Enter the input: 12\n",
      "12\n",
      "<class 'str'>\n",
      "Enter the number: 17\n",
      "17\n",
      "<class 'int'>\n"
     ]
    }
   ],
   "source": [
    "#Input\n",
    "inp_var = input(\"Enter the input: \")\n",
    "print(inp_var)\n",
    "print(type(inp_var))\n",
    "#Typecasted Input\n",
    "inp_int = int(input(\"Enter the number: \"))\n",
    "print(inp_int)\n",
    "print(type(inp_int))"
   ]
  },
  {
   "cell_type": "code",
   "execution_count": 7,
   "metadata": {
    "scrolled": false
   },
   "outputs": [
    {
     "name": "stdout",
     "output_type": "stream",
     "text": [
      "[1, 2, 3, 4, 5, 6, 7, 8, 9, 10]\n",
      "[1, 2, 3, 4, 5, 6, 7, 8, 9, 10, 11]\n",
      "[1, 2, 3, 4, 4.5, 5, 6, 7, 8, 9, 10, 11]\n",
      "[1, 2, 3, 4, 4.5, 5, 6, 7, 9, 10, 11]\n"
     ]
    }
   ],
   "source": [
    "#Lists (Immutable)\n",
    "\n",
    "#Creating a list:\n",
    "ls = [1,2,3,4,5,6,7,8,9,10]\n",
    "print(ls)\n",
    "#Adding to a list\n",
    "ls.append(11)\n",
    "print(ls)\n",
    "#Inserting in a list\n",
    "ls.insert(4,4.5)\n",
    "print(ls)\n",
    "#Deleting from a list\n",
    "ls.remove(8)\n",
    "print(ls)\n"
   ]
  },
  {
   "cell_type": "code",
   "execution_count": 8,
   "metadata": {},
   "outputs": [
    {
     "name": "stdout",
     "output_type": "stream",
     "text": [
      "[1, 2, 3, 4, 4.5, 5, 6, 7, 9]\n",
      "[1, 2, 3, 4, 4.5, 5, 6, 7, 9, 10, 11]\n",
      "[1, 3, 4.5, 6, 9, 11]\n",
      "[11, 9, 6, 4.5]\n",
      "11\n"
     ]
    }
   ],
   "source": [
    "#Slicing a List\n",
    "ls_sliced = ls[0:9] #List index starts from 0; 0th included, 9th not included\n",
    "print(ls_sliced)\n",
    "ls_sliced_2 = ls[0::]\n",
    "print(ls_sliced_2)\n",
    "ls_sliced_step = ls[0::2]\n",
    "print(ls_sliced_step)\n",
    "#Can also be negative\n",
    "ls_neg_step = ls[10:3:-2]\n",
    "print(ls_neg_step)\n",
    "#-1 index is for last element\n",
    "print(ls[-1])"
   ]
  },
  {
   "cell_type": "code",
   "execution_count": 9,
   "metadata": {},
   "outputs": [
    {
     "name": "stdout",
     "output_type": "stream",
     "text": [
      "{'A': 1, 'B': 2, 'C': 3, 'D': 4}\n",
      "{'A': 1, 'B': 2, 'C': 3, 'D': 4, 'New_Item': 5}\n",
      "{'A': 1, 'B': 2, 'C': 3, 'D': 4, 'New_Item': 5, 'New_Item_1': 5, 'New_Item_2': 6}\n",
      "{'A': 1, 'B': 2, 'C': 3, 'D': 4, 'New_Item': 5, 'New_Item_1': 5}\n"
     ]
    }
   ],
   "source": [
    "#Dictionary (Mutable)\n",
    "#Creating a dictionary\n",
    "dt = {'A':1, 'B':2, 'C':3, 'D':4}\n",
    "print(dt)\n",
    "#Inserting in a dictionary\n",
    "dt['New_Item'] = 5\n",
    "print(dt)\n",
    "#OR\n",
    "dt.update({'New_Item_1': 5, 'New_Item_2':6})\n",
    "print(dt)\n",
    "#Deletion in a dictionary\n",
    "del dt['New_Item_2']\n",
    "print(dt)"
   ]
  },
  {
   "cell_type": "code",
   "execution_count": 10,
   "metadata": {},
   "outputs": [
    {
     "name": "stdout",
     "output_type": "stream",
     "text": [
      "(1, 2, 3, 4, 5, 6, 7, 8, 9, 10)\n"
     ]
    }
   ],
   "source": [
    "#Tuples (Immutable)\n",
    "tupl = (1,2,3,4,5,6,7,8,9,10)\n",
    "print(tupl)\n",
    "#No insertion and deletion as immutable"
   ]
  },
  {
   "cell_type": "code",
   "execution_count": 11,
   "metadata": {},
   "outputs": [
    {
     "name": "stdout",
     "output_type": "stream",
     "text": [
      "True\n",
      "a is greater than b\n"
     ]
    }
   ],
   "source": [
    "#Conditional Statements\n",
    "#if else and elif\n",
    "\n",
    "#if statement -> Used to decide given a condition (If = Agar)\n",
    "\n",
    "a = 17\n",
    "b = 12\n",
    "if(a > b):\n",
    "    print(a > b)\n",
    "    print(\"a is greater than b\")\n",
    "else:\n",
    "    print(b > a)\n",
    "    print(\"b is greater than a\")"
   ]
  },
  {
   "cell_type": "code",
   "execution_count": 12,
   "metadata": {},
   "outputs": [
    {
     "name": "stdout",
     "output_type": "stream",
     "text": [
      "Enter the number: 17\n",
      "Enter the number: 15\n",
      "17 is greater than 15\n"
     ]
    }
   ],
   "source": [
    "#if-elif ladder\n",
    "#Use if more than 2 conditions\n",
    "num1 = int(input(\"Enter the number: \"))\n",
    "num2 = int(input(\"Enter the number: \"))\n",
    "\n",
    "\n",
    "if (num1 > num2):\n",
    "    print(str(num1) +  \" is greater than \" + str(num2))\n",
    "elif (num2 > num1):\n",
    "    print(str(num2) +  \" is greater than \" + str(num1))\n",
    "elif (num1 == num2):\n",
    "    print(str(num2) +  \" is equal to \" + str(num1))"
   ]
  },
  {
   "cell_type": "code",
   "execution_count": 13,
   "metadata": {},
   "outputs": [
    {
     "name": "stdout",
     "output_type": "stream",
     "text": [
      "0\n",
      "1\n",
      "2\n",
      "3\n",
      "4\n"
     ]
    }
   ],
   "source": [
    "#Loops\n",
    "#1. For loop\n",
    "#Syntax: for obj in [condition]:\n",
    "                #Do something\n",
    "for i in range(5): #i goes from 0 to 4 i.e. last number not included\n",
    "    print(i)"
   ]
  },
  {
   "cell_type": "code",
   "execution_count": 14,
   "metadata": {},
   "outputs": [
    {
     "name": "stdout",
     "output_type": "stream",
     "text": [
      "10\n",
      "10\n",
      "10\n",
      "10\n",
      "10\n"
     ]
    }
   ],
   "source": [
    "#While loop\n",
    "i = 10\n",
    "j = 5\n",
    "while i > j:\n",
    "    print(i)\n",
    "    j += 1  #Tell about shorthand"
   ]
  }
 ],
 "metadata": {
  "kernelspec": {
   "display_name": "Python 3",
   "language": "python",
   "name": "python3"
  },
  "language_info": {
   "codemirror_mode": {
    "name": "ipython",
    "version": 3
   },
   "file_extension": ".py",
   "mimetype": "text/x-python",
   "name": "python",
   "nbconvert_exporter": "python",
   "pygments_lexer": "ipython3",
   "version": "3.6.5"
  }
 },
 "nbformat": 4,
 "nbformat_minor": 2
}
