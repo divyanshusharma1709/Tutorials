{
 "cells": [
  {
   "cell_type": "code",
   "execution_count": null,
   "metadata": {},
   "outputs": [],
   "source": [
    "###########################    FUNCTIONAL PROGRAMMING    ##############################"
   ]
  },
  {
   "cell_type": "code",
   "execution_count": null,
   "metadata": {},
   "outputs": [],
   "source": [
    "name = input(\"Enter the name of the student: \")\n",
    "cls = input(\"Enter the class: \")"
   ]
  },
  {
   "cell_type": "code",
   "execution_count": null,
   "metadata": {},
   "outputs": [],
   "source": [
    "#Using Functions:\n",
    "#Why use functions\n",
    "def details():\n",
    "    print(name, cls, sep = ',')"
   ]
  },
  {
   "cell_type": "code",
   "execution_count": null,
   "metadata": {},
   "outputs": [],
   "source": [
    "details()"
   ]
  },
  {
   "cell_type": "code",
   "execution_count": null,
   "metadata": {},
   "outputs": [],
   "source": [
    "#Function to add\n",
    "def add(num1, num2):\n",
    "    print(num1 + num2)"
   ]
  },
  {
   "cell_type": "code",
   "execution_count": null,
   "metadata": {},
   "outputs": [],
   "source": [
    "#Function to subtract:\n",
    "def sub(num1, num2):\n",
    "    print(num1 - num2)"
   ]
  },
  {
   "cell_type": "code",
   "execution_count": null,
   "metadata": {},
   "outputs": [],
   "source": [
    "def multiply(num1, num2):\n",
    "    print(num1*num2)"
   ]
  },
  {
   "cell_type": "code",
   "execution_count": null,
   "metadata": {},
   "outputs": [],
   "source": [
    "def divide(num1, num2):\n",
    "    if(num2 != 0):\n",
    "        print(num1/num2)"
   ]
  },
  {
   "cell_type": "code",
   "execution_count": null,
   "metadata": {},
   "outputs": [],
   "source": [
    "#Building a calculator\n",
    "print(\"Calculator:\")\n",
    "x, y = input(\"Enter two numbers: \").split()\n",
    "x = int(x)\n",
    "y = int(y)\n",
    "print(x)\n",
    "print(y)\n",
    "print(\"1. Add numbers\", \"2. Subtract numbers\", \"3. Multiply numbers\", \"4. Divide numbers\", sep = '\\n')\n",
    "ch = int(input(\"Enter a choice: \"))\n",
    "if ch == 1:\n",
    "    sum(x,y)\n",
    "elif ch == 2:\n",
    "    sub(x,y)\n",
    "elif ch == 3:\n",
    "    multiply(x,y)\n",
    "elif ch == 4:\n",
    "    divide(x,y)"
   ]
  },
  {
   "cell_type": "code",
   "execution_count": null,
   "metadata": {},
   "outputs": [],
   "source": [
    "#Return statement\n",
    "def add(num1, num2):\n",
    "    return num1 + num2"
   ]
  },
  {
   "cell_type": "code",
   "execution_count": null,
   "metadata": {},
   "outputs": [],
   "source": [
    "x = add(1,2)"
   ]
  },
  {
   "cell_type": "code",
   "execution_count": null,
   "metadata": {},
   "outputs": [],
   "source": [
    "print(x)"
   ]
  },
  {
   "cell_type": "code",
   "execution_count": null,
   "metadata": {},
   "outputs": [],
   "source": [
    "##############################################\n",
    "#FUNCTIONAL PROGRAMMING#\n",
    "##############################################"
   ]
  },
  {
   "cell_type": "code",
   "execution_count": 2,
   "metadata": {},
   "outputs": [
    {
     "name": "stdout",
     "output_type": "stream",
     "text": [
      "30\n"
     ]
    }
   ],
   "source": [
    "#Higher Order Functions/Function inside a function\n",
    "def use_twice(func, arg):\n",
    "    return func(func(arg))\n",
    "def add_ten(x):\n",
    "    return x + 10\n",
    "\n",
    "print(use_twice(add_ten, 10))"
   ]
  },
  {
   "cell_type": "code",
   "execution_count": 4,
   "metadata": {},
   "outputs": [
    {
     "name": "stdout",
     "output_type": "stream",
     "text": [
      "25\n"
     ]
    }
   ],
   "source": [
    "#lambda functions/Anonymous functions\n",
    "z = (lambda x: x*x)(5)\n",
    "print(z)"
   ]
  },
  {
   "cell_type": "code",
   "execution_count": 15,
   "metadata": {},
   "outputs": [
    {
     "name": "stdout",
     "output_type": "stream",
     "text": [
      "[2, 4, 6, 8, 10]\n",
      "[4, 5]\n"
     ]
    }
   ],
   "source": [
    "#map and filter\n",
    "\n",
    "#map: apply a function to an iterable and return it\n",
    "def double(x):\n",
    "    return x*2\n",
    "num = [1,2,3,4,5]\n",
    "doubles = list(map(double, num))\n",
    "print(doubles)\n",
    "#OR\n",
    "doubles = list(map(lambda x: x*2, num)) #1st argument --> Function, 2nd argument --> Iterable\n",
    "\n",
    "#filter: Take out elements from an iterable according to a condition\n",
    "fil = list(filter(lambda x: x > 3, num))\n",
    "print(fil)"
   ]
  },
  {
   "cell_type": "code",
   "execution_count": 27,
   "metadata": {},
   "outputs": [],
   "source": [
    "#Recursion <<<<<VERY IMPORTANT!!>>>>>\n",
    "#A function calling itself is called recursion\n",
    "def factorial(x):\n",
    "    if x != 1:\n",
    "        return x * factorial(x-1)\n",
    "    elif x == 1: \n",
    "        return 1"
   ]
  },
  {
   "cell_type": "code",
   "execution_count": 28,
   "metadata": {},
   "outputs": [
    {
     "data": {
      "text/plain": [
       "120"
      ]
     },
     "execution_count": 28,
     "metadata": {},
     "output_type": "execute_result"
    }
   ],
   "source": [
    "factorial(5)"
   ]
  }
 ],
 "metadata": {
  "kernelspec": {
   "display_name": "Python 3",
   "language": "python",
   "name": "python3"
  },
  "language_info": {
   "codemirror_mode": {
    "name": "ipython",
    "version": 3
   },
   "file_extension": ".py",
   "mimetype": "text/x-python",
   "name": "python",
   "nbconvert_exporter": "python",
   "pygments_lexer": "ipython3",
   "version": "3.6.5"
  }
 },
 "nbformat": 4,
 "nbformat_minor": 2
}
