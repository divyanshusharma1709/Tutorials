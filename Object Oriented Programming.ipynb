{
 "cells": [
  {
   "cell_type": "code",
   "execution_count": null,
   "metadata": {},
   "outputs": [],
   "source": [
    "######################################## Object Oriented Programming ##############################################"
   ]
  },
  {
   "cell_type": "code",
   "execution_count": null,
   "metadata": {},
   "outputs": [],
   "source": [
    "#1. Data Encapsulation\n",
    "#2. Data Hiding\n",
    "#3. Data Abstraction\n",
    "#4. Inheritance"
   ]
  },
  {
   "cell_type": "code",
   "execution_count": null,
   "metadata": {},
   "outputs": [],
   "source": [
    "#Data Encapsulation --> Classes (Blueprints)\n",
    "#Classes: 1. Creation 2. Instantiation  3. Deletion \n",
    "class student:\n",
    "    def __init__(self, name, age): #Instantiation\n",
    "        self.name = name\n",
    "        self.age = age\n",
    "    def add_marks(self, marks): #Class is always passed as a parameter\n",
    "        self.marks = marks\n",
    "st1 = student(\"Divyanshu\", 18) #Creation of an \"object\"/Instance of a class\n",
    "st1.add_marks(100)\n",
    "print(st1.name, st1.age, st1.marks) #Access attributes using . operator \n",
    "del st1 #Deletion (Is automatic if object is no longer needed)"
   ]
  },
  {
   "cell_type": "code",
   "execution_count": null,
   "metadata": {},
   "outputs": [],
   "source": [
    "## INHERITANCE ##\n",
    "class Animal:\n",
    "    def __init__(self, name, color):\n",
    "        self.name = name\n",
    "        self.color = color\n",
    "class Dog(Animal): #Inherits everything\n",
    "    def bark(self):\n",
    "        print(\"Woof!\")\n",
    "class Cat(Animal):\n",
    "    def purr(self):\n",
    "        print(\"Meoww!\")\n",
    "jackey = Dog(\"Jackey\", \"Brown\")\n",
    "meredith = Cat(\"Meredith\", \"White\")\n",
    "meredith.purr()\n",
    "jackey.bark()\n",
    "#Inherited Attributes\n",
    "print(meredith.color)\n",
    "print(jackey.color)"
   ]
  },
  {
   "cell_type": "code",
   "execution_count": null,
   "metadata": {},
   "outputs": [],
   "source": [
    "#Data Hiding\n",
    "#Weakly private attributes\n",
    "class weakHide:\n",
    "    def __init__(self):\n",
    "        self._age = 18\n",
    "x = weakHide()\n",
    "print(x._age) #See, no problem"
   ]
  },
  {
   "cell_type": "code",
   "execution_count": null,
   "metadata": {},
   "outputs": [],
   "source": [
    "#Strongly private attributes (Cannot be accessed by functions outside the class)\n",
    "class strongHide:\n",
    "    def __init__(self):\n",
    "        self.__age = 18\n",
    "y = strongHide()\n",
    "print(y.__age) #Error because we can't access it from outside"
   ]
  },
  {
   "cell_type": "code",
   "execution_count": null,
   "metadata": {},
   "outputs": [],
   "source": [
    "class funcAccess():\n",
    "    def __init__(self):\n",
    "        self.__age = 18\n",
    "    def get_age(self):\n",
    "        return self.__age\n",
    "z = funcAccess()\n",
    "print(z.get_age()) #The object can access private attributes only through the function"
   ]
  },
  {
   "cell_type": "code",
   "execution_count": null,
   "metadata": {},
   "outputs": [],
   "source": [
    "#if timeLeft == True:\n",
    "#    start(importing_Libraries)\n",
    "## Importing Modules ##\n",
    "import numpy\n",
    "x = [1,2,3,4,5, \"hello\"]\n",
    "print(type(x))\n",
    "\n",
    "x = numpy.array(x)\n",
    "print(type(x))"
   ]
  },
  {
   "cell_type": "code",
   "execution_count": null,
   "metadata": {},
   "outputs": [],
   "source": [
    "#Shortening the name\n",
    "import numpy as np\n",
    "import tensorflow as tf"
   ]
  },
  {
   "cell_type": "code",
   "execution_count": null,
   "metadata": {},
   "outputs": [],
   "source": [
    "#File Handling:\n",
    "x = open(\"hello.txt\", \"r\")\n",
    "#print(x)\n",
    "for letter in x:\n",
    "    print(letter)\n",
    "x.close()\n",
    "#OR\n"
   ]
  },
  {
   "cell_type": "code",
   "execution_count": null,
   "metadata": {},
   "outputs": [],
   "source": [
    "file = open(\"hello.txt\", \"r\")\n",
    "contents = file.read(5)\n",
    "print(contents)\n",
    "line = file.readlines()\n",
    "print(line)\n",
    "file.close()"
   ]
  },
  {
   "cell_type": "code",
   "execution_count": null,
   "metadata": {},
   "outputs": [],
   "source": [
    "add = \"Let's add something to the file!\"\n",
    "file = open(\"hello.txt\", \"a\") #Opening in \"w\" replaces contents of file\n",
    "file.write(add)\n",
    "file.close()"
   ]
  },
  {
   "cell_type": "code",
   "execution_count": null,
   "metadata": {},
   "outputs": [],
   "source": [
    "file = open(\"hello.txt\", \"r\")\n",
    "for line in enumerate(file):\n",
    "    data = file.readline()\n",
    "    print(line)"
   ]
  }
 ],
 "metadata": {
  "kernelspec": {
   "display_name": "Python 3",
   "language": "python",
   "name": "python3"
  },
  "language_info": {
   "codemirror_mode": {
    "name": "ipython",
    "version": 3
   },
   "file_extension": ".py",
   "mimetype": "text/x-python",
   "name": "python",
   "nbconvert_exporter": "python",
   "pygments_lexer": "ipython3",
   "version": "3.6.5"
  }
 },
 "nbformat": 4,
 "nbformat_minor": 2
}
